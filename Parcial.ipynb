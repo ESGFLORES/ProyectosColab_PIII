{
  "nbformat": 4,
  "nbformat_minor": 0,
  "metadata": {
    "colab": {
      "provenance": [],
      "collapsed_sections": [],
      "authorship_tag": "ABX9TyMER27EGLmJeCWydrzf14Gk",
      "include_colab_link": true
    },
    "kernelspec": {
      "name": "python3",
      "display_name": "Python 3"
    },
    "language_info": {
      "name": "python"
    }
  },
  "cells": [
    {
      "cell_type": "markdown",
      "metadata": {
        "id": "view-in-github",
        "colab_type": "text"
      },
      "source": [
        "<a href=\"https://colab.research.google.com/github/ESGFLORES/ControlesBasicosAndroidStudio/blob/master/Parcial.ipynb\" target=\"_parent\"><img src=\"https://colab.research.google.com/assets/colab-badge.svg\" alt=\"Open In Colab\"/></a>"
      ]
    },
    {
      "cell_type": "code",
      "execution_count": null,
      "metadata": {
        "id": "yOOOLeeq6Aig"
      },
      "outputs": [],
      "source": [
        "# Desarrolle un algoritmo en Python que permita obtener los descuentos ISSS, \n",
        "# AFP,  I.S.R,  vacaciones,  aguinaldo  etc.  Uno  para  empresas  y  otro  para \n",
        "# personas. Favor investigue los datos correspondientes según ley. El usuario \n",
        "# deberá ingresar el sueldo y que el sistema le diga el valor neto a pagarle y \n",
        "# las deducciones. (30%)"
      ]
    },
    {
      "cell_type": "code",
      "source": [
        "# para descontar AFP Y ISSS\n",
        "\n",
        "def DesImpuesto(sueldo):\n",
        "  return (sueldo)*0.03 + (sueldo)*0.0625\n",
        "\n",
        "def calcularSueldo(sueldo):\n",
        "  return(sueldo) - (DesImpuesto(sueldo)) \n",
        "\n",
        "def Impuesto1 (sueldo):\n",
        "  return (calcularSueldo(sueldo) - 472.00)*0.10 + 17.67\n",
        "\n",
        "def Impuesto2 (sueldo):\n",
        "  return (calcularSueldo(sueldo) - 895.24)*0.20 + 60\n",
        "\n",
        "def Impuesto3 (sueldo):\n",
        "  return (calcularSueldo(sueldo) - 2032.10)*0.30 + 288.57\n",
        "\n",
        "#para calcular sueldo con prestacion de AFP ISSS y ISR\n",
        "\n",
        "def sueldo_Prestacion1(calcularSueldo):\n",
        "  return calcularSueldo(sueldo)- Impuesto1(sueldo)\n",
        "\n",
        "def sueldo_prestacion2(calcularSueldo):\n",
        "  return calcularSueldo(sueldo)- Impuesto2(sueldo)\n",
        "\n",
        "def sueldo_prestacion3(calcularSueldo):\n",
        "  return calcularSueldo(sueldo)- Impuesto3(sueldo)\n"
      ],
      "metadata": {
        "id": "o_wUzkT9HzTS"
      },
      "execution_count": null,
      "outputs": []
    },
    {
      "cell_type": "markdown",
      "source": [
        "### INGRESAR SU SUELDO"
      ],
      "metadata": {
        "id": "FnkHPXwfOpYH"
      }
    },
    {
      "cell_type": "code",
      "source": [
        "sueldo= float (input(\"Ingrese su sueldo:\"))\n",
        "\n",
        "print(\"Su sueldo es:\",calcularSueldo(sueldo))\n",
        "\n"
      ],
      "metadata": {
        "colab": {
          "base_uri": "https://localhost:8080/"
        },
        "id": "gIX9kdbxH29a",
        "outputId": "1824435f-9c33-42a5-a3d2-1ac6c1af3627"
      },
      "execution_count": null,
      "outputs": [
        {
          "output_type": "stream",
          "name": "stdout",
          "text": [
            "Ingrese su sueldo:700\n",
            "Su sueldo es: 635.25\n"
          ]
        }
      ]
    },
    {
      "cell_type": "code",
      "source": [
        "if sueldo <=472 :\n",
        "  print(\"ud no aplica a ISR su sueldo sigue siendo $ :\",calcularSueldo(sueldo))\n",
        "\n",
        "elif  sueldo >= 472.01 and sueldo <=895.24:\n",
        "  print(\"Su sueldo Neto es de $ :\", sueldo_Prestacion1(calcularSueldo))\n",
        "\n",
        "elif sueldo >= 895.25 and sueldo <=2038.10:\n",
        "  print(\" Su sueldo Neto es de $ :\",sueldo_prestacion2(calcularSueldo))\n",
        "\n",
        "elif sueldo >= 2038.11:\n",
        "  print(\"su sueldo Neto es de $ :\",sueldo_prestacion3(calcularSueldo))\n"
      ],
      "metadata": {
        "id": "p-l454srIEoj",
        "colab": {
          "base_uri": "https://localhost:8080/"
        },
        "outputId": "2594d1d1-0df2-4a10-ab33-5eb64977c4b2"
      },
      "execution_count": null,
      "outputs": [
        {
          "output_type": "stream",
          "name": "stdout",
          "text": [
            "Su sueldo Neto es de $ : 601.255\n"
          ]
        }
      ]
    },
    {
      "cell_type": "markdown",
      "source": [
        "###CALCULE SU AGUINALDO Y VACACION"
      ],
      "metadata": {
        "id": "o50EKrlfbph9"
      }
    },
    {
      "cell_type": "code",
      "source": [
        "def aguinaldo1(sueldoA):\n",
        "  return (sueldoA/30)*15\n",
        "\n",
        "def aguinaldo2(sueldoA):\n",
        "  return (sueldoA/30)*19\n",
        "\n",
        "def aguinaldo3(sueldoA):\n",
        "  return (sueldoA/30)*21\n",
        "\n",
        "def vacacion(sueldoA):\n",
        "  return ((sueldoA/30)*15)*0.30\n",
        "\n",
        "\n",
        "def salario_diario(sueldoA):\n",
        "  return ((sueldoA/30)*15) + vacacion(sueldoA)\n"
      ],
      "metadata": {
        "id": "PdG_u0Uf0RGy"
      },
      "execution_count": null,
      "outputs": []
    },
    {
      "cell_type": "code",
      "source": [
        "sueldoA = float(input(\"ingres su sueldo $ :\"))"
      ],
      "metadata": {
        "id": "vmKiQReox2TW",
        "colab": {
          "base_uri": "https://localhost:8080/"
        },
        "outputId": "05900591-6b53-47b5-c3c1-ad6558abcd4d"
      },
      "execution_count": null,
      "outputs": [
        {
          "name": "stdout",
          "output_type": "stream",
          "text": [
            "ingres su sueldo $ :1000\n"
          ]
        }
      ]
    },
    {
      "cell_type": "code",
      "source": [
        "TiempoLab = int(input(\"Ingrese su tiempo en años laborales : \"))\n",
        "\n",
        "if TiempoLab >= 1 and TiempoLab <= 3:\n",
        "  print(\"Su aguinaldo es $ :\",aguinaldo1(sueldoA))\n",
        "elif TiempoLab >= 4 and TiempoLab <= 9:\n",
        "  print(\"Su aguinaldo es $ :\",aguinaldo2(sueldoA))\n",
        "elif TiempoLab >=10:\n",
        "  print(\"Su aguinaldo es $ :\",aguinaldo3(sueldoA))\n",
        "\n",
        "else:\n",
        "  print(\"Tiempo incorrecto\")\n",
        "\n"
      ],
      "metadata": {
        "id": "djfzPmMayMCf",
        "colab": {
          "base_uri": "https://localhost:8080/"
        },
        "outputId": "99239c75-c691-41b5-b402-b955de6160db"
      },
      "execution_count": null,
      "outputs": [
        {
          "output_type": "stream",
          "name": "stdout",
          "text": [
            "Ingrese su tiempo en años laborales : 6\n",
            "Su aguinaldo es $ : 633.3333333333334\n"
          ]
        }
      ]
    },
    {
      "cell_type": "markdown",
      "source": [
        "### EJECUTE AQUI PARA OBTENER SU PAGO EN VACACIONES"
      ],
      "metadata": {
        "id": "aPivhKZdpf6O"
      }
    },
    {
      "cell_type": "code",
      "source": [
        "\n",
        "print(\"Su pago en la vacacion es $ :\",salario_diario(sueldoA))"
      ],
      "metadata": {
        "id": "TW1c_1DxF3i8",
        "colab": {
          "base_uri": "https://localhost:8080/"
        },
        "outputId": "8ac56139-eb02-4ed4-fa0d-2c2088765750"
      },
      "execution_count": null,
      "outputs": [
        {
          "output_type": "stream",
          "name": "stdout",
          "text": [
            "Su pago en la vacacion es $ : 650.0\n"
          ]
        }
      ]
    },
    {
      "cell_type": "markdown",
      "source": [
        "# 1.1 PARA EMPRESAS"
      ],
      "metadata": {
        "id": "fKIczAgnSczR"
      }
    },
    {
      "cell_type": "code",
      "source": [
        "# para descontar AFP Y ISSS\n",
        "\n",
        "def DesImpuestoE(Fondo):\n",
        "  return (Fondo)*0.07 + (Fondo)*0.15\n",
        "\n",
        "def calcularSueldoE(Fondo):\n",
        "  return(Fondo) - (DesImpuestoE(Fondo)) \n",
        "\n",
        "def Impuesto1E (Fondo):\n",
        "  return (calcularSueldoE(Fondo) - 472.00)*0.10 + 17.67\n",
        "\n",
        "def Impuesto2E (Fondo):\n",
        "  return (calcularSueldoE(Fondo) - 895.24)*0.20 + 60\n",
        "\n",
        "def Impuesto3E (Fondo):\n",
        "  return (calcularSueldoE(Fondo) - 2032.10)*0.30 + 288.57\n",
        "\n",
        "#para calcular sueldo con prestacion de AFP ISSS y ISR\n",
        "\n",
        "def sueldo_Prestacion1E(calcularSueldoE):\n",
        "  return calcularSueldoE(Fondo)- Impuesto1E(Fondo)\n",
        "\n",
        "def sueldo_prestacion2E(calcularSueldoE):\n",
        "  return calcularSueldoE(Fondo)- Impuesto2E(Fondo)\n",
        "\n",
        "def sueldo_prestacion3E(calcularSueldoE):\n",
        "  return calcularSueldoE(Fondo)- Impuesto3E(Fondo)\n"
      ],
      "metadata": {
        "id": "nvNKdJzkVHOr"
      },
      "execution_count": null,
      "outputs": []
    },
    {
      "cell_type": "code",
      "source": [
        "Fondo = float (input(\"Ingrese sus fondos mensuales:\"))\n",
        "\n",
        "print(\"Nuevo monto con descuento de AFP y ISSS:\",calcularSueldoE(Fondo))\n"
      ],
      "metadata": {
        "id": "0UntLYicVibo"
      },
      "execution_count": null,
      "outputs": []
    },
    {
      "cell_type": "markdown",
      "source": [
        "### calcule ISR"
      ],
      "metadata": {
        "id": "fFdC9wT9Zsmf"
      }
    },
    {
      "cell_type": "code",
      "source": [
        "if Fondo <=472 :\n",
        "  print(\"ud no aplica a ISR su sueldo sigue siendo $ :\",calcularSueldoE(Fondo))\n",
        "\n",
        "elif  Fondo >= 472.01 and Fondo <=895.24:\n",
        "  print(\"Su sueldo Neto es de $ :\", sueldo_Prestacion1E(calcularSueldoE))\n",
        "\n",
        "elif Fondo >= 895.25 and Fondo <=2038.10:\n",
        "  print(\" Su sueldo Neto es de $ :\",sueldo_prestacion2E(calcularSueldoE))\n",
        "\n",
        "elif Fondo >= 2038.11:\n",
        "  print(\"El monto menos la retencion de impuesto mas ISR es de $ :\",sueldo_prestacion3E(calcularSueldoE))"
      ],
      "metadata": {
        "colab": {
          "base_uri": "https://localhost:8080/"
        },
        "id": "W7XVrZvUYMh3",
        "outputId": "9089c174-3d71-4509-82b9-974a0acb1e98"
      },
      "execution_count": null,
      "outputs": [
        {
          "output_type": "stream",
          "name": "stdout",
          "text": [
            "El monto menos la retencion de impuesto mas ISR es de $ : 3051.06\n"
          ]
        }
      ]
    },
    {
      "cell_type": "code",
      "source": [
        "#Desarrolle un algoritmo en Python que calcule el IMPUESTO A LAS \n",
        "#ACTIVIDADES ECONOMICAS de acuerdo con la siguiente tabla. El monto \n",
        "#de la actividad económica debe ser introducido por el usuario. (30%) "
      ],
      "metadata": {
        "id": "njwJxKzFrGg-"
      },
      "execution_count": null,
      "outputs": []
    },
    {
      "cell_type": "code",
      "source": [
        "\n",
        "A_economica = float(input(\"Ingrese el monto de la actividad economica  : \"))\n",
        "\n",
        "if A_economica >= 0.01 and A_economica <= 500:\n",
        "    print((((A_economica -0.01)/1000)*0)+1.5)\n",
        "\n",
        "elif A_economica >= 500 and A_economica <= 1000:\n",
        "    print((((A_economica - 500)/1000)*3)+ 1.5)\n",
        "\n",
        "elif A_economica >=1000.01 and A_economica <= 2000:\n",
        "  print((((A_economica - 1000.01)/1000)*3)+3)\n",
        "\n",
        "elif A_economica >=2000.01 and A_economica <= 3000:\n",
        "  print((((A_economica - 2000.01)/1000)*3)+6)\n",
        "\n",
        "elif A_economica >=3000.01 and A_economica <= 6000:\n",
        "  print((((A_economica - 3000.01)/1000)*2)+9)\n",
        "\n",
        "elif A_economica >=8000.01 and A_economica <= 18000:\n",
        "  print((((A_economica - 8000.01)/1000)*2)+15)\n",
        "\n",
        "elif A_economica >=18000.01 and A_economica <= 30000:\n",
        "  print((((A_economica - 18000.01)/1000)*2)+39)\n",
        "\n",
        "elif A_economica >=30000.01 and A_economica <= 60000:\n",
        "  print((((A_economica - 30000.01)/1000)*1)+ 63)\n",
        "\n",
        "elif A_economica >=60000.01 and A_economica <= 100000:\n",
        "  print((((A_economica - 600000.01)/1000)*0.8)+93)\n",
        "\n",
        "elif A_economica >=100000.01 and A_economica <= 200000:\n",
        "  print((((A_economica - 100000.01)/1000)*0.7)+ 125)\n",
        "\n",
        "elif A_economica >=200000.01 and A_economica <= 300000:\n",
        "  print((((A_economica - 200000.01)/1000)*0.6)+ 195)\n",
        "\n",
        "elif A_economica >=300000.01 and A_economica <= 400000:\n",
        "  print((((A_economica - 300000.01)/1000)*0.45)+ 255)\n",
        "\n",
        "elif A_economica >=400000.01 and A_economica <= 500000:\n",
        "  print((((A_economica - 400000.01)/1000)*0.4)+ 300)\n",
        "\n",
        "elif A_economica >=500000.01 and A_economica <= 1000000:\n",
        "  print((((A_economica - 500000.01)/1000)*0.30)+ 340)\n",
        "\n",
        "elif A_economica >=1000000.01 and A_economica <= 99999999 :\n",
        "  print((((A_economica - 1000000.01)/1000)*0.18)+ 490)\n",
        "\n",
        "else: print(\"Opcion invalida\")"
      ],
      "metadata": {
        "id": "bIq49LGnABmw",
        "colab": {
          "base_uri": "https://localhost:8080/"
        },
        "outputId": "e183c1a3-fdae-4bdb-cd39-24a2b22f2d43"
      },
      "execution_count": null,
      "outputs": [
        {
          "output_type": "stream",
          "name": "stdout",
          "text": [
            "Ingrese el monto de la actividad economica  : 5678\n",
            "14.355979999999999\n"
          ]
        }
      ]
    },
    {
      "cell_type": "markdown",
      "source": [
        "# CAJERO AUTOMATICO"
      ],
      "metadata": {
        "id": "I0BUUbTKMNxV"
      }
    },
    {
      "cell_type": "code",
      "source": [
        "print(\"------------------------\")\n",
        "s = \"s\"\n",
        "while s == \"s\":\n",
        "  cantidad = float(input(\"ingrese cantidad a retirar: \"))\n",
        " \n",
        "  if cantidad>=0:\n",
        "    print(\"Sus \",cantidad,\" En los diferentes Billetes y Monedas americanos son \")\n",
        "\n",
        "    if cantidad >= 100:\n",
        "      Billete100 = int(cantidad/100)\n",
        "      resto100 = cantidad % 100\n",
        "      print(Billete100,\" billetes de $100 dólares \") \n",
        "     \n",
        "    if cantidad >= 50:\n",
        "      Billete50 = int(resto100/50)\n",
        "      resto50 = resto100 % 50\n",
        "      print(Billete50,\" billetes de $50 dólares \") \n",
        "\n",
        "    if cantidad >= 20:\n",
        "      Billete20 = int(resto50/20)\n",
        "      resto20 = resto50 % 20\n",
        "      print(Billete20,\" billetes de $20 dólares \") \n",
        "\n",
        "    if cantidad >= 10:\n",
        "      Billete10 = int(resto20/10)\n",
        "      resto10 = resto20 % 10\n",
        "      print(Billete10,\" billetes de $10 dólares \") \n",
        "\n",
        "    if cantidad >= 5:\n",
        "      Billete5 = int(resto10/5)\n",
        "      resto5 = resto10 % 5\n",
        "      print(Billete5,\" billetes de $5 dólares \") \n",
        "\n",
        "    if cantidad >= 1:\n",
        "      Billete1 = int(resto5/1)\n",
        "      resto1 = resto5 % 1\n",
        "      print(Billete1,\" billetes de $1 dólar \") \n",
        "\n",
        "    if cantidad >= 0.25:\n",
        "      Moneda025 = int(resto1/0.25)\n",
        "      resto025 = resto1 % 0.25\n",
        "      print(Moneda025,\" monedas de $0.25 ctvs \") \n",
        "\n",
        "    if cantidad >= 0.10:\n",
        "      Moneda010 = int(resto025/0.10)\n",
        "      resto010 = resto025 % 0.10\n",
        "      print(Moneda010,\" monedas de $0.10 ctvs \")\n",
        "\n",
        "    if cantidad >= 0.05:\n",
        "      Moneda005 = int(resto010/0.05)\n",
        "      resto005 = resto010 % 0.05\n",
        "      print(Moneda005, \" monedas de $0.05 ctvs \")\n",
        "\n",
        "    if cantidad>=0.01:\n",
        "      Moneda001 = int(resto005/0.01)\n",
        "      resto001 = resto005 % 0.01\n",
        "      print(Moneda001,\" monedas de $0.01 ctvs \") \n",
        "\n",
        "  else:\n",
        "    print(\"Cantidad no existente! \")\n",
        "\n",
        "  print(\"------------------------\")\n",
        "  s = input(\"Ingrese la letra s si desea continuar, sino ingrese otra letra \")\n",
        "  print(\"------------------------\")"
      ],
      "metadata": {
        "id": "5-AuZNquMYJ6"
      },
      "execution_count": null,
      "outputs": []
    },
    {
      "cell_type": "markdown",
      "source": [
        "# Conversor de Área"
      ],
      "metadata": {
        "id": "qCx_lf12h9Pb"
      }
    },
    {
      "cell_type": "code",
      "source": [
        "def pies_metros():\n",
        "  pies = int(input(\"INGRESE LA CANTIDAD DE PIES CUADRADOS QUE DESEA CONVERTIR A METROS CUADRADOS \"))\n",
        "  metros = pies / 10.764\n",
        "  print(pies,\"PIES CUADRADOS EQUIVALEN A \", metros, \"METROS CUADRADOS\")\n",
        "\n",
        "\n",
        "def metros_hectareas ():\n",
        "  metros = int(input(\"INGRESE LA CANTIDAD DE METROS CUADRADOS QUE DESEA CONVERTIR A HECTAREAS \"))\n",
        "  hectareas = metros / 10000\n",
        "  print(metros, \"METROS CUADRADOS EQUIVALEN A \", hectareas, \"HECTAREAS\")\n",
        "\n",
        "\n",
        "def metros_pies():\n",
        "  metros = int(input(\"INGRESE LA CANTIDAD DE METROS CUADRADOS QUE DESEA CONVERTIR A PIES \"))\n",
        "  pies = metros * 10.764\n",
        "  print(metros, \"METROS CUADRADOS EQUIVALEN A \", pies, \"PIES CUADRADOS\")\n",
        "\n",
        "\n",
        "def yardas_pies():\n",
        "  yardas = int(input(\"INGRESE LA CANTIDAD DE YARDAS CUADRADAS QUE DESEA CONVERTIR A PIES \"))\n",
        "  pies = yardas * 9\n",
        "  print(yardas, \"YARDAS CUADRADAS EQUIVALEN A \", pies, \"PIES CUADRADOS\")\n",
        "\n",
        "\n",
        "def hectareas_yardas():\n",
        "  hectareas = int(input(\"INGRESE LA CANTIDAD DE HECTAREAS QUE DESEA CONVERTIR A YARDAS \"))\n",
        "  yardas = hectareas * 11960\n",
        "  print(hectareas, \"HECTAREAS EQUIVALEN A \", yardas, \"YARDAS CUADRADAS\")\n",
        "\n",
        "\n",
        "def manzanas_varas():\n",
        "  manzanas = int(input(\"INGRESE LA CANTIDAD DE MANZANAS QUE DESEA CONVERTIR A VARAS \"))\n",
        "  varas = manzanas * 0.84\n",
        "  print(manzanas, \"MANZANAS EQUIVALEN A \", varas, \"VARAS CUADRADAS\")\n",
        "\n",
        "\n",
        "def tarea_metro():\n",
        "  tarea = int(input(\"INGRESE LA CANTIDAD DE TAREAS QUE DESEA CONVERTIR A METROS CUADRADOS \"))\n",
        "  metro = tarea * 628.86\n",
        "  print(tarea, \"TAREAS EQUIVALEN A \", metro, \"METROS CUADRADOS\")\n",
        "\n",
        "\n",
        "def metros_varas():\n",
        "  metros = int(input(\"INGRESE LA CANTIDAD DE METROS CUADRADOS QUE DESEA CONVERTIR A VARAS \"))\n",
        "  varas = metros / 0.7\n",
        "  print(metros, \"METROS CUADRADOS A\", varas, \"VARAS CUADRADAS\")\n",
        "\n",
        "\n",
        "def tarea_hectarea ():\n",
        "  tarea = int(input(\"INGRESE LA CANTIDAD DE TAREAS QUE DESEA CONVERTIR A HECTAREAS \"))\n",
        "  hectareas = tarea * 0.06288\n",
        "  print(tarea,\"TAREAS EQUIVALEN A \", hectareas, \"HECTAREAS\")\n",
        "\n",
        "\n",
        "def tarea_manzana ():\n",
        "  tarea = int(input(\"INGRESE LA CANTIDAD DE TAREAS QUE DESEA CONVERTIR A MANZANAS \"))\n",
        "  manzana= tarea * 0.06288\n",
        "  print (tarea,\"TAREAS EQUIVALEN A \", manzana, \"MANZANAS\")\n",
        "\n",
        "\n",
        "opcion = int( input(\"\\n*MENU*\\n\\n\"\n",
        "                    \"1. Pies Cuadrados a Metros Cuadrados \\n\"\n",
        "                    \"2. Metros Cuadrados a Hectareas \\n\"\n",
        "                    \"3. Metros Cuadrados a Pies Cuadrados \\n\"\n",
        "                    \"4. Yardas Cuadradas a Pies Cuadrados \\n\"\n",
        "                    \"5. Hectareas a Yardas Cuadradas \\n\"\n",
        "                    \"6. Manzanas a Varas Cuadradas \\n\"\n",
        "                    \"7. Tareas a Metros Cuadrados \\n\"\n",
        "                    \"8. Metros Cuadrados a Varas Cuadradas \\n\"\n",
        "                    \"9. Tareas a Hectareas \\n\"\n",
        "                    \"10. Tareas a Manzanas \\n\"\n",
        "                    \"Ingrese al opcion que desea \\n\\n\"))\n",
        "\n",
        "Diccionario = {1:pies_metros,\n",
        "               2:metros_hectareas,\n",
        "               3:metros_pies,\n",
        "               4:yardas_pies,\n",
        "               5:hectareas_yardas,\n",
        "               6:manzanas_varas,\n",
        "               7:tarea_metro,\n",
        "               8:metros_varas,\n",
        "               9:tarea_hectarea,\n",
        "               10:tarea_manzana}\n",
        "\n",
        "try:\n",
        "  Diccionario[opcion]()\n",
        "except:\n",
        "  print(\"No ha elegido una opcion valida. \")"
      ],
      "metadata": {
        "id": "VhjzieRjh5Qx"
      },
      "execution_count": null,
      "outputs": []
    }
  ]
}