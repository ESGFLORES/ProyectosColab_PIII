{
  "nbformat": 4,
  "nbformat_minor": 0,
  "metadata": {
    "colab": {
      "name": "Ejercicios1.ipynb",
      "provenance": [],
      "collapsed_sections": [],
      "authorship_tag": "ABX9TyNwDv/kd56YIky7AHkGYk3W",
      "include_colab_link": true
    },
    "kernelspec": {
      "name": "python3",
      "display_name": "Python 3"
    },
    "language_info": {
      "name": "python"
    }
  },
  "cells": [
    {
      "cell_type": "markdown",
      "metadata": {
        "id": "view-in-github",
        "colab_type": "text"
      },
      "source": [
        "<a href=\"https://colab.research.google.com/github/ESGFLORES/ControlesBasicosAndroidStudio/blob/master/Ejercicios1.ipynb\" target=\"_parent\"><img src=\"https://colab.research.google.com/assets/colab-badge.svg\" alt=\"Open In Colab\"/></a>"
      ]
    },
    {
      "cell_type": "markdown",
      "source": [
        "# Ejercicio 1"
      ],
      "metadata": {
        "id": "DW7hmMoCg1UL"
      }
    },
    {
      "cell_type": "code",
      "source": [
        "# Calcular sueldo neto "
      ],
      "metadata": {
        "id": "2r5hPI4Qg87Y"
      },
      "execution_count": null,
      "outputs": []
    },
    {
      "cell_type": "code",
      "execution_count": null,
      "metadata": {
        "id": "iMoKfmJAYD6-"
      },
      "outputs": [],
      "source": [
        "def DesImpuesto(sueldo):\n",
        "  return (sueldo)*0.03 + (sueldo)*0.0625"
      ]
    },
    {
      "cell_type": "code",
      "source": [
        "def calcularSueldo(sueldo):\n",
        "  return(sueldo) - (DesImpuesto(sueldo))"
      ],
      "metadata": {
        "id": "rvv-vs2JiEJ4"
      },
      "execution_count": null,
      "outputs": []
    },
    {
      "cell_type": "code",
      "source": [
        "def Impuesto1 (sueldo):\n",
        "  return (calcularSueldo(sueldo) - 472.00)*0.10 + 17.67"
      ],
      "metadata": {
        "id": "jCnvm0lbDEm6"
      },
      "execution_count": null,
      "outputs": []
    },
    {
      "cell_type": "code",
      "source": [
        "def Impuesto2 (sueldo):\n",
        "  return (calcularSueldo(sueldo) - 895.24)*0.20 + 60"
      ],
      "metadata": {
        "id": "T308Zq9oHXlj"
      },
      "execution_count": null,
      "outputs": []
    },
    {
      "cell_type": "code",
      "source": [
        "def Impuesto3 (sueldo):\n",
        "  return (calcularSueldo(sueldo) - 2032.10)*0.30 + 288.57"
      ],
      "metadata": {
        "id": "_kVheRmGHqHS"
      },
      "execution_count": null,
      "outputs": []
    },
    {
      "cell_type": "markdown",
      "source": [
        "INGRESE SU SUELDO"
      ],
      "metadata": {
        "id": "QVe7XBJHJYTd"
      }
    },
    {
      "cell_type": "code",
      "source": [
        "sueldo= float (input(\"Ingrese su sueldo:\"))"
      ],
      "metadata": {
        "id": "bR1lCGPDgfB7"
      },
      "execution_count": null,
      "outputs": []
    },
    {
      "cell_type": "markdown",
      "source": [
        "COMPRUEBE RETENCION ISR"
      ],
      "metadata": {
        "id": "QgdfPoqpJyE7"
      }
    },
    {
      "cell_type": "code",
      "source": [
        "print(\"Su sueldo es:\",calcularSueldo(sueldo))"
      ],
      "metadata": {
        "id": "UO2ojipNgt7O"
      },
      "execution_count": null,
      "outputs": []
    },
    {
      "cell_type": "code",
      "source": [
        "if sueldo <=472 :\n",
        "  print(\"ud no aplica a ISR\")"
      ],
      "metadata": {
        "id": "J81pL9Sv8e1e"
      },
      "execution_count": null,
      "outputs": []
    },
    {
      "cell_type": "code",
      "source": [
        "if sueldo >= 472.01 and sueldo <=895.24:\n",
        "  print(\"Su retencion de impuesto sobre la renta en su sueldo de:\",calcularSueldo(sueldo),\"es de :\",Impuesto1(sueldo))"
      ],
      "metadata": {
        "id": "AbI9A7HaCDCT",
        "colab": {
          "base_uri": "https://localhost:8080/"
        },
        "outputId": "3aefb1e8-db92-4cb9-c9d6-85f270e24073"
      },
      "execution_count": null,
      "outputs": [
        {
          "output_type": "stream",
          "name": "stdout",
          "text": [
            "Su retencion de impuesto sobre la renta en su sueldo de: 544.5 es de : 24.92\n"
          ]
        }
      ]
    },
    {
      "cell_type": "code",
      "source": [
        "if sueldo >= 895.25 and sueldo <=2038.10:\n",
        "  print(\"Su retencion de impuesto sobre la renta en su sueldo de:\",calcularSueldo(sueldo),\"es de :\",Impuesto2(sueldo))"
      ],
      "metadata": {
        "id": "4NIn6CoZH85a"
      },
      "execution_count": null,
      "outputs": []
    },
    {
      "cell_type": "code",
      "source": [
        "if sueldo >= 2038.11:\n",
        "  print(\"Su retencion de impuesto sobre la renta en su sueldo de:\",calcularSueldo(sueldo),\"es de :\",Impuesto3(sueldo))"
      ],
      "metadata": {
        "id": "sg6AJM6QIKjN"
      },
      "execution_count": null,
      "outputs": []
    },
    {
      "cell_type": "markdown",
      "source": [
        "# Ejercicio 2\n"
      ],
      "metadata": {
        "id": "BXpQNx24aM7E"
      }
    },
    {
      "cell_type": "code",
      "source": [
        "# MONTO A PAGAR POR METROS CONSUMIDOS POR AGUA POTABLE"
      ],
      "metadata": {
        "id": "HqRZWZAEgv9M"
      },
      "execution_count": null,
      "outputs": []
    },
    {
      "cell_type": "code",
      "source": [
        "def consu1 (consumo):\n",
        "  return ((consumo -18)*0.45)+ 6"
      ],
      "metadata": {
        "id": "YhrUPvJ6gRff"
      },
      "execution_count": null,
      "outputs": []
    },
    {
      "cell_type": "code",
      "source": [
        "complemento = ((28 -18)*0.45) + 6\n"
      ],
      "metadata": {
        "id": "6StoRlJ9j3bT"
      },
      "execution_count": null,
      "outputs": []
    },
    {
      "cell_type": "code",
      "source": [
        "def consu2 (consumo):\n",
        "  return ((consumo -28)*0.65 )+ complemento"
      ],
      "metadata": {
        "id": "aLptbgnzh2o3"
      },
      "execution_count": null,
      "outputs": []
    },
    {
      "cell_type": "code",
      "source": [
        "consumo = int (input(\"Ingrese el consumo de metros consumidos:\"))"
      ],
      "metadata": {
        "id": "WUAE2IJeaZDZ",
        "colab": {
          "base_uri": "https://localhost:8080/"
        },
        "outputId": "78d4a3d1-d438-4fb4-8c6a-8334d78d74c5"
      },
      "execution_count": null,
      "outputs": [
        {
          "name": "stdout",
          "output_type": "stream",
          "text": [
            "Ingrese el consumo de metros consumidos:25\n"
          ]
        }
      ]
    },
    {
      "cell_type": "code",
      "source": [
        "if consumo >=1 and consumo <=18:\n",
        "  print(\"su Monto a pagar es de $\",6.00)\n"
      ],
      "metadata": {
        "id": "a__QAh8Pc47n"
      },
      "execution_count": null,
      "outputs": []
    },
    {
      "cell_type": "code",
      "source": [
        "if consumo >19 and consumo<=28:\n",
        "  print(\"su monto a pagar es de $\",consu1(consumo))"
      ],
      "metadata": {
        "colab": {
          "base_uri": "https://localhost:8080/"
        },
        "id": "Ok2UqC1qfdWF",
        "outputId": "12240cfe-eb84-4c1d-cf75-d6834ce028de"
      },
      "execution_count": null,
      "outputs": [
        {
          "output_type": "stream",
          "name": "stdout",
          "text": [
            "su monto a pagar es de $ 9.15\n"
          ]
        }
      ]
    },
    {
      "cell_type": "code",
      "source": [
        "if consumo >=29:\n",
        "  print(\"su monto a pagar es de $\",consu2(consumo))"
      ],
      "metadata": {
        "colab": {
          "base_uri": "https://localhost:8080/"
        },
        "id": "T4LDZsR7mWZE",
        "outputId": "fffc3b4b-fce3-4cb5-9033-fea154112b94"
      },
      "execution_count": null,
      "outputs": [
        {
          "output_type": "stream",
          "name": "stdout",
          "text": [
            "su monto a pagar es de $ 17.0\n"
          ]
        }
      ]
    },
    {
      "cell_type": "code",
      "source": [],
      "metadata": {
        "id": "KY9DPb4hxjmJ"
      },
      "execution_count": null,
      "outputs": []
    },
    {
      "cell_type": "markdown",
      "source": [
        "# ejercicio 3"
      ],
      "metadata": {
        "id": "et13FmItxley"
      }
    },
    {
      "cell_type": "code",
      "source": [
        "#Valores acumulados"
      ],
      "metadata": {
        "id": "J9KcclRfhCSL"
      },
      "execution_count": null,
      "outputs": []
    },
    {
      "cell_type": "code",
      "source": [
        "\n",
        "print(\"Ingrese cantidad que desea imprimir y obtener acumulado\")\n",
        "a = int(input())\n",
        "b = 0\n",
        "\n",
        "for i in range (1, a + 1):\n",
        "  \n",
        "  print(i)\n",
        "  b = b + i\n",
        "\n",
        "\n",
        "  print (\" El valor acumulado es \",b)\n",
        "  \n"
      ],
      "metadata": {
        "id": "7NpXOuLoxoMu"
      },
      "execution_count": null,
      "outputs": []
    },
    {
      "cell_type": "markdown",
      "source": [
        "# ejercicio 4\n"
      ],
      "metadata": {
        "id": "Sd8pzoy9V8fe"
      }
    },
    {
      "cell_type": "code",
      "source": [
        "#conversores\n",
        "etiquetas = [\n",
        "    0,\n",
        "    [\"Seleccione un moneda\", \"1. Dolar\", \"2. Colon SV\", \"3. Quetzal\", \"4. Lempira\", \"5. Cordoba\"],\n",
        "    [\"Selecione un almacenamiento\", \"1. MegaByte\", \"2. Bit\", \"3. Byte\", \"4. KiloByte\", \"5. GigaByte\"]\n",
        "    ,[\"Seleccione una longitud\", \"1. Pie\",\"2. kilometro\",\"3. Metro\",\"4. centimetro\", \"5. Milimetro\",\"6. milla\",\"7. yarda\",\"8. Pulgada\", \"9. Milla nautica\", \"10. Nanometro\"]\n",
        "    ,[\"seleccione una unidad de masa\",\"1. kilogramo\",\"2. gramo\", \"3. miligramo\",\"4. libra\",\"5. onza\",\"6. tonelada\",\"7. microgramo\",\"8. tonelada larga\",\"9. tonelada corta\"]\n",
        "    ,[\"seleccione una unidad de tiempo\",\"1. nanosegundo\", \"2. microsegundo\",\"3. milisegundo\", \"4. segundo\", \"5. minuto\",\"6. hora\", \"7. dia\", \"8. semana\", \"9. mes\", \"10. año natural\"]\n",
        "    ,[\"Seleccione una unidad de Volumen\",\"1. litro\",\"2. mililitro\", \"3. metro cubico\", \"4. galon imperial\", \"5. cuarto imperial\", \"6. pinta imperial\", \"7. taza imperial\",\"8. onza liquida imperial\", \"9. cucharada imperial\"]\n",
        "    ,[\"seleccione una unidad de area\", \"1. kilometro2\", \"2. Metro2\", \"3. Milla2\",\"4. yarda2\", \"5. Pie2\", \"6. Pulgada2\", \"7. hectarea\", \"8. Acre\"]]\n",
        "\n",
        "valores = [0,\n",
        "  [0,1, 8.75, 7.73, 24.49, 35.96],\n",
        "  [0,1, 8388608, 1048576, 1024, 0.0009765625]\n",
        "  ,[0,1,0.0003048,0.3048,30.48,304.8,0.000189394,0.333333,12,0.000164579,3.048e+8 ],\n",
        "    [0,1,1000,1e+6,2.20462,35.274,0.001,1e+9,0.000984207,0.00110231],\n",
        "    [0,1,0.001,1e-6,1e-9,1.6667e-11,2.7778e-13,1.1574e-14,1.6534e-15,3.8052e-16,3.171e-17],\n",
        "    [0,1,1000,0.001,0.219969,0.879877,1.75975,3.51951,0.1,1.6],\n",
        "    [0,1,1e+6,0.386102,1.196e+6,1.076e+7,1.55e+9,100,247.105]\n",
        "]"
      ],
      "metadata": {
        "id": "327M4oU2i1mn"
      },
      "execution_count": null,
      "outputs": []
    },
    {
      "cell_type": "code",
      "source": [
        "def convertir(opcion, de, a, cantidad):\n",
        "  return valores[opcion][a] / valores[opcion][de] * cantidad"
      ],
      "metadata": {
        "id": "D1WluOBuWUZT"
      },
      "execution_count": null,
      "outputs": []
    },
    {
      "cell_type": "code",
      "source": [
        "print(\"** MENU **\")\n",
        "print(\"1. Monedas\")\n",
        "print(\"2. Almacenamiento\")\n",
        "print(\"3. Longitud\")\n",
        "print(\"4. Masa\")\n",
        "print(\"5. Tiempo\")\n",
        "print(\"6. Volumen\")\n",
        "print(\"7. Area\")\n",
        "\n",
        "opcion = int(input(\"Opcion: \"))\n",
        "\n",
        "print( etiquetas[opcion] )\n",
        "de = int(input(\"DE: \"))\n",
        "a = int(input(\"A: \"))\n",
        "cantidad = float(input(\"Cantidad: \"))\n",
        "\n",
        "print( etiquetas[opcion][de], \" en \", etiquetas[opcion][a], \" equivale a: \", convertir(opcion, de, a, cantidad) )"
      ],
      "metadata": {
        "id": "C1_GnZb7WdvS"
      },
      "execution_count": null,
      "outputs": []
    },
    {
      "cell_type": "code",
      "source": [],
      "metadata": {
        "id": "HVIgB8F9gZX0"
      },
      "execution_count": null,
      "outputs": []
    },
    {
      "cell_type": "markdown",
      "source": [
        "# Ejercicio 5"
      ],
      "metadata": {
        "id": "Ekk8pMHIgaXn"
      }
    }
  ]
}